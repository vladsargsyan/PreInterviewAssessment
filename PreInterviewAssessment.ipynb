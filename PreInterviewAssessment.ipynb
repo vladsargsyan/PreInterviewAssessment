{
 "cells": [
  {
   "cell_type": "code",
   "execution_count": 37,
   "id": "7aacdd1f-0f3a-4c8e-8d15-22c7ca9af210",
   "metadata": {
    "scrolled": true
   },
   "outputs": [
    {
     "data": {
      "text/html": [
       "<div>\n",
       "<style scoped>\n",
       "    .dataframe tbody tr th:only-of-type {\n",
       "        vertical-align: middle;\n",
       "    }\n",
       "\n",
       "    .dataframe tbody tr th {\n",
       "        vertical-align: top;\n",
       "    }\n",
       "\n",
       "    .dataframe thead th {\n",
       "        text-align: right;\n",
       "    }\n",
       "</style>\n",
       "<table border=\"1\" class=\"dataframe\">\n",
       "  <thead>\n",
       "    <tr style=\"text-align: right;\">\n",
       "      <th></th>\n",
       "      <th>Age</th>\n",
       "      <th>BusinessTravel</th>\n",
       "      <th>Education</th>\n",
       "      <th>MaritalStatus</th>\n",
       "      <th>OverTime</th>\n",
       "      <th>EmployeeNumber</th>\n",
       "      <th>DailyRate</th>\n",
       "      <th>Gender</th>\n",
       "      <th>accepted for the interview</th>\n",
       "    </tr>\n",
       "  </thead>\n",
       "  <tbody>\n",
       "    <tr>\n",
       "      <th>0</th>\n",
       "      <td>41</td>\n",
       "      <td>Travel_Rarely</td>\n",
       "      <td>2</td>\n",
       "      <td>Single</td>\n",
       "      <td>Yes</td>\n",
       "      <td>1</td>\n",
       "      <td>1102</td>\n",
       "      <td>Female</td>\n",
       "      <td>True</td>\n",
       "    </tr>\n",
       "    <tr>\n",
       "      <th>1</th>\n",
       "      <td>49</td>\n",
       "      <td>Travel_Frequently</td>\n",
       "      <td>1</td>\n",
       "      <td>Married</td>\n",
       "      <td>No</td>\n",
       "      <td>2</td>\n",
       "      <td>279</td>\n",
       "      <td>Male</td>\n",
       "      <td>False</td>\n",
       "    </tr>\n",
       "    <tr>\n",
       "      <th>2</th>\n",
       "      <td>37</td>\n",
       "      <td>Travel_Rarely</td>\n",
       "      <td>2</td>\n",
       "      <td>Single</td>\n",
       "      <td>Yes</td>\n",
       "      <td>4</td>\n",
       "      <td>1373</td>\n",
       "      <td>Male</td>\n",
       "      <td>False</td>\n",
       "    </tr>\n",
       "    <tr>\n",
       "      <th>3</th>\n",
       "      <td>33</td>\n",
       "      <td>Travel_Frequently</td>\n",
       "      <td>4</td>\n",
       "      <td>Married</td>\n",
       "      <td>Yes</td>\n",
       "      <td>5</td>\n",
       "      <td>1392</td>\n",
       "      <td>Female</td>\n",
       "      <td>False</td>\n",
       "    </tr>\n",
       "    <tr>\n",
       "      <th>4</th>\n",
       "      <td>27</td>\n",
       "      <td>Travel_Rarely</td>\n",
       "      <td>1</td>\n",
       "      <td>Married</td>\n",
       "      <td>No</td>\n",
       "      <td>7</td>\n",
       "      <td>591</td>\n",
       "      <td>Male</td>\n",
       "      <td>False</td>\n",
       "    </tr>\n",
       "    <tr>\n",
       "      <th>...</th>\n",
       "      <td>...</td>\n",
       "      <td>...</td>\n",
       "      <td>...</td>\n",
       "      <td>...</td>\n",
       "      <td>...</td>\n",
       "      <td>...</td>\n",
       "      <td>...</td>\n",
       "      <td>...</td>\n",
       "      <td>...</td>\n",
       "    </tr>\n",
       "    <tr>\n",
       "      <th>1487</th>\n",
       "      <td>35</td>\n",
       "      <td>Travel_Rarely</td>\n",
       "      <td>3</td>\n",
       "      <td>Married</td>\n",
       "      <td>Yes</td>\n",
       "      <td>1856</td>\n",
       "      <td>682</td>\n",
       "      <td>Male</td>\n",
       "      <td>False</td>\n",
       "    </tr>\n",
       "    <tr>\n",
       "      <th>1488</th>\n",
       "      <td>35</td>\n",
       "      <td>Travel_Rarely</td>\n",
       "      <td>4</td>\n",
       "      <td>Divorced</td>\n",
       "      <td>No</td>\n",
       "      <td>1857</td>\n",
       "      <td>1103</td>\n",
       "      <td>Male</td>\n",
       "      <td>False</td>\n",
       "    </tr>\n",
       "    <tr>\n",
       "      <th>1489</th>\n",
       "      <td>31</td>\n",
       "      <td>Travel_Rarely</td>\n",
       "      <td>3</td>\n",
       "      <td>Single</td>\n",
       "      <td>Yes</td>\n",
       "      <td>1858</td>\n",
       "      <td>976</td>\n",
       "      <td>Male</td>\n",
       "      <td>False</td>\n",
       "    </tr>\n",
       "    <tr>\n",
       "      <th>1490</th>\n",
       "      <td>37</td>\n",
       "      <td>Travel_Rarely</td>\n",
       "      <td>4</td>\n",
       "      <td>Single</td>\n",
       "      <td>No</td>\n",
       "      <td>1859</td>\n",
       "      <td>1351</td>\n",
       "      <td>Female</td>\n",
       "      <td>False</td>\n",
       "    </tr>\n",
       "    <tr>\n",
       "      <th>1491</th>\n",
       "      <td>32</td>\n",
       "      <td>Travel_Rarely</td>\n",
       "      <td>4</td>\n",
       "      <td>Married</td>\n",
       "      <td>No</td>\n",
       "      <td>1858</td>\n",
       "      <td>1103</td>\n",
       "      <td>Female</td>\n",
       "      <td>False</td>\n",
       "    </tr>\n",
       "  </tbody>\n",
       "</table>\n",
       "<p>1492 rows × 9 columns</p>\n",
       "</div>"
      ],
      "text/plain": [
       "      Age     BusinessTravel  Education MaritalStatus OverTime  \\\n",
       "0      41      Travel_Rarely          2        Single      Yes   \n",
       "1      49  Travel_Frequently          1       Married       No   \n",
       "2      37      Travel_Rarely          2        Single      Yes   \n",
       "3      33  Travel_Frequently          4       Married      Yes   \n",
       "4      27      Travel_Rarely          1       Married       No   \n",
       "...   ...                ...        ...           ...      ...   \n",
       "1487   35      Travel_Rarely          3       Married      Yes   \n",
       "1488   35      Travel_Rarely          4      Divorced       No   \n",
       "1489   31      Travel_Rarely          3        Single      Yes   \n",
       "1490   37      Travel_Rarely          4        Single       No   \n",
       "1491   32      Travel_Rarely          4       Married       No   \n",
       "\n",
       "      EmployeeNumber  DailyRate  Gender  accepted for the interview  \n",
       "0                  1       1102  Female                        True  \n",
       "1                  2        279    Male                       False  \n",
       "2                  4       1373    Male                       False  \n",
       "3                  5       1392  Female                       False  \n",
       "4                  7        591    Male                       False  \n",
       "...              ...        ...     ...                         ...  \n",
       "1487            1856        682    Male                       False  \n",
       "1488            1857       1103    Male                       False  \n",
       "1489            1858        976    Male                       False  \n",
       "1490            1859       1351  Female                       False  \n",
       "1491            1858       1103  Female                       False  \n",
       "\n",
       "[1492 rows x 9 columns]"
      ]
     },
     "execution_count": 37,
     "metadata": {},
     "output_type": "execute_result"
    }
   ],
   "source": [
    "import pandas as pd \n",
    "import seaborn as sns\n",
    "df = pd.read_csv('logatta.csv')\n",
    "df"
   ]
  },
  {
   "cell_type": "code",
   "execution_count": 38,
   "id": "ae8b398e-3650-4a06-ac99-72bdcbbd031f",
   "metadata": {},
   "outputs": [
    {
     "name": "stdout",
     "output_type": "stream",
     "text": [
      "<class 'pandas.core.frame.DataFrame'>\n",
      "RangeIndex: 1492 entries, 0 to 1491\n",
      "Data columns (total 9 columns):\n",
      " #   Column                      Non-Null Count  Dtype \n",
      "---  ------                      --------------  ----- \n",
      " 0   Age                         1492 non-null   int64 \n",
      " 1   BusinessTravel              1492 non-null   object\n",
      " 2   Education                   1492 non-null   int64 \n",
      " 3   MaritalStatus               1492 non-null   object\n",
      " 4   OverTime                    1492 non-null   object\n",
      " 5   EmployeeNumber              1492 non-null   int64 \n",
      " 6   DailyRate                   1492 non-null   int64 \n",
      " 7   Gender                      1492 non-null   object\n",
      " 8   accepted for the interview  1492 non-null   bool  \n",
      "dtypes: bool(1), int64(4), object(4)\n",
      "memory usage: 94.8+ KB\n"
     ]
    }
   ],
   "source": [
    "df.info()"
   ]
  },
  {
   "cell_type": "code",
   "execution_count": 39,
   "id": "f72a761d-c1ec-4841-a800-561fecd1431a",
   "metadata": {},
   "outputs": [],
   "source": [
    "df=df.astype({'accepted for the interview':\"int32\"})"
   ]
  },
  {
   "cell_type": "code",
   "execution_count": 40,
   "id": "be96eeb0-8b33-4c93-954e-003e240ea52d",
   "metadata": {},
   "outputs": [
    {
     "data": {
      "text/plain": [
       "array(['Travel_Rarely', 'Travel_Frequently', 'Non-Travel'], dtype=object)"
      ]
     },
     "execution_count": 40,
     "metadata": {},
     "output_type": "execute_result"
    }
   ],
   "source": [
    "df[\"BusinessTravel\"].unique()"
   ]
  },
  {
   "cell_type": "code",
   "execution_count": 41,
   "id": "f3c15a20-60d6-4366-ace2-5d8a128ac0e5",
   "metadata": {},
   "outputs": [],
   "source": [
    "from sklearn.preprocessing import OrdinalEncoder\n",
    "for i in [\"BusinessTravel\",\"MaritalStatus\"]:\n",
    "    ordinal =OrdinalEncoder()\n",
    "    df[[i]]=ordinal.fit_transform(df[[i]])"
   ]
  },
  {
   "cell_type": "code",
   "execution_count": 42,
   "id": "61a9ed1e-522e-4fda-964a-f12d8b02ff85",
   "metadata": {},
   "outputs": [],
   "source": [
    "for i in [\"OverTime\",\"Gender\"]:\n",
    "    x=pd.get_dummies(df[[i]])\n",
    "    x=x.drop(x.columns[-1],axis=1)\n",
    "    df=pd.concat([df,x],axis=1)\n",
    "    df=df.drop(i,axis=1)"
   ]
  },
  {
   "cell_type": "code",
   "execution_count": 43,
   "id": "949310fa-5e63-43cd-90f1-72f2ea8bf254",
   "metadata": {},
   "outputs": [],
   "source": [
    "from sklearn.preprocessing import StandardScaler\n",
    "for i  in [\"DailyRate\",\"Age\"] :\n",
    "    std =StandardScaler()\n",
    "    df[[i]]=std.fit_transform(df[[i]])"
   ]
  },
  {
   "cell_type": "code",
   "execution_count": 44,
   "id": "b262f34f-a712-4715-bfc9-0977c419387a",
   "metadata": {},
   "outputs": [],
   "source": [
    "df=df.drop([\"EmployeeNumber\"],axis=1)"
   ]
  },
  {
   "cell_type": "code",
   "execution_count": 45,
   "id": "c1027919-fd4c-4cd8-a559-877219aca529",
   "metadata": {},
   "outputs": [
    {
     "data": {
      "text/html": [
       "<div>\n",
       "<style scoped>\n",
       "    .dataframe tbody tr th:only-of-type {\n",
       "        vertical-align: middle;\n",
       "    }\n",
       "\n",
       "    .dataframe tbody tr th {\n",
       "        vertical-align: top;\n",
       "    }\n",
       "\n",
       "    .dataframe thead th {\n",
       "        text-align: right;\n",
       "    }\n",
       "</style>\n",
       "<table border=\"1\" class=\"dataframe\">\n",
       "  <thead>\n",
       "    <tr style=\"text-align: right;\">\n",
       "      <th></th>\n",
       "      <th>Age</th>\n",
       "      <th>BusinessTravel</th>\n",
       "      <th>Education</th>\n",
       "      <th>MaritalStatus</th>\n",
       "      <th>DailyRate</th>\n",
       "      <th>accepted for the interview</th>\n",
       "      <th>OverTime_No</th>\n",
       "      <th>Gender_Female</th>\n",
       "    </tr>\n",
       "  </thead>\n",
       "  <tbody>\n",
       "    <tr>\n",
       "      <th>0</th>\n",
       "      <td>0.452168</td>\n",
       "      <td>2.0</td>\n",
       "      <td>2</td>\n",
       "      <td>2.0</td>\n",
       "      <td>0.735781</td>\n",
       "      <td>1</td>\n",
       "      <td>False</td>\n",
       "      <td>True</td>\n",
       "    </tr>\n",
       "    <tr>\n",
       "      <th>1</th>\n",
       "      <td>1.331314</td>\n",
       "      <td>1.0</td>\n",
       "      <td>1</td>\n",
       "      <td>1.0</td>\n",
       "      <td>-1.303018</td>\n",
       "      <td>0</td>\n",
       "      <td>True</td>\n",
       "      <td>False</td>\n",
       "    </tr>\n",
       "    <tr>\n",
       "      <th>2</th>\n",
       "      <td>0.012595</td>\n",
       "      <td>2.0</td>\n",
       "      <td>2</td>\n",
       "      <td>2.0</td>\n",
       "      <td>1.407124</td>\n",
       "      <td>0</td>\n",
       "      <td>False</td>\n",
       "      <td>False</td>\n",
       "    </tr>\n",
       "    <tr>\n",
       "      <th>3</th>\n",
       "      <td>-0.426978</td>\n",
       "      <td>1.0</td>\n",
       "      <td>4</td>\n",
       "      <td>1.0</td>\n",
       "      <td>1.454192</td>\n",
       "      <td>0</td>\n",
       "      <td>False</td>\n",
       "      <td>True</td>\n",
       "    </tr>\n",
       "    <tr>\n",
       "      <th>4</th>\n",
       "      <td>-1.086338</td>\n",
       "      <td>2.0</td>\n",
       "      <td>1</td>\n",
       "      <td>1.0</td>\n",
       "      <td>-0.530108</td>\n",
       "      <td>0</td>\n",
       "      <td>True</td>\n",
       "      <td>False</td>\n",
       "    </tr>\n",
       "    <tr>\n",
       "      <th>...</th>\n",
       "      <td>...</td>\n",
       "      <td>...</td>\n",
       "      <td>...</td>\n",
       "      <td>...</td>\n",
       "      <td>...</td>\n",
       "      <td>...</td>\n",
       "      <td>...</td>\n",
       "      <td>...</td>\n",
       "    </tr>\n",
       "    <tr>\n",
       "      <th>1487</th>\n",
       "      <td>-0.207192</td>\n",
       "      <td>2.0</td>\n",
       "      <td>3</td>\n",
       "      <td>1.0</td>\n",
       "      <td>-0.304675</td>\n",
       "      <td>0</td>\n",
       "      <td>False</td>\n",
       "      <td>False</td>\n",
       "    </tr>\n",
       "    <tr>\n",
       "      <th>1488</th>\n",
       "      <td>-0.207192</td>\n",
       "      <td>2.0</td>\n",
       "      <td>4</td>\n",
       "      <td>0.0</td>\n",
       "      <td>0.738259</td>\n",
       "      <td>0</td>\n",
       "      <td>True</td>\n",
       "      <td>False</td>\n",
       "    </tr>\n",
       "    <tr>\n",
       "      <th>1489</th>\n",
       "      <td>-0.646765</td>\n",
       "      <td>2.0</td>\n",
       "      <td>3</td>\n",
       "      <td>2.0</td>\n",
       "      <td>0.423644</td>\n",
       "      <td>0</td>\n",
       "      <td>False</td>\n",
       "      <td>False</td>\n",
       "    </tr>\n",
       "    <tr>\n",
       "      <th>1490</th>\n",
       "      <td>0.012595</td>\n",
       "      <td>2.0</td>\n",
       "      <td>4</td>\n",
       "      <td>2.0</td>\n",
       "      <td>1.352624</td>\n",
       "      <td>0</td>\n",
       "      <td>True</td>\n",
       "      <td>True</td>\n",
       "    </tr>\n",
       "    <tr>\n",
       "      <th>1491</th>\n",
       "      <td>-0.536871</td>\n",
       "      <td>2.0</td>\n",
       "      <td>4</td>\n",
       "      <td>1.0</td>\n",
       "      <td>0.738259</td>\n",
       "      <td>0</td>\n",
       "      <td>True</td>\n",
       "      <td>True</td>\n",
       "    </tr>\n",
       "  </tbody>\n",
       "</table>\n",
       "<p>1492 rows × 8 columns</p>\n",
       "</div>"
      ],
      "text/plain": [
       "           Age  BusinessTravel  Education  MaritalStatus  DailyRate  \\\n",
       "0     0.452168             2.0          2            2.0   0.735781   \n",
       "1     1.331314             1.0          1            1.0  -1.303018   \n",
       "2     0.012595             2.0          2            2.0   1.407124   \n",
       "3    -0.426978             1.0          4            1.0   1.454192   \n",
       "4    -1.086338             2.0          1            1.0  -0.530108   \n",
       "...        ...             ...        ...            ...        ...   \n",
       "1487 -0.207192             2.0          3            1.0  -0.304675   \n",
       "1488 -0.207192             2.0          4            0.0   0.738259   \n",
       "1489 -0.646765             2.0          3            2.0   0.423644   \n",
       "1490  0.012595             2.0          4            2.0   1.352624   \n",
       "1491 -0.536871             2.0          4            1.0   0.738259   \n",
       "\n",
       "      accepted for the interview  OverTime_No  Gender_Female  \n",
       "0                              1        False           True  \n",
       "1                              0         True          False  \n",
       "2                              0        False          False  \n",
       "3                              0        False           True  \n",
       "4                              0         True          False  \n",
       "...                          ...          ...            ...  \n",
       "1487                           0        False          False  \n",
       "1488                           0         True          False  \n",
       "1489                           0        False          False  \n",
       "1490                           0         True           True  \n",
       "1491                           0         True           True  \n",
       "\n",
       "[1492 rows x 8 columns]"
      ]
     },
     "execution_count": 45,
     "metadata": {},
     "output_type": "execute_result"
    }
   ],
   "source": [
    "df"
   ]
  },
  {
   "cell_type": "code",
   "execution_count": 46,
   "id": "155131a2-ae1e-460f-b445-79d45a06e231",
   "metadata": {},
   "outputs": [
    {
     "data": {
      "text/plain": [
       "<Axes: >"
      ]
     },
     "execution_count": 46,
     "metadata": {},
     "output_type": "execute_result"
    },
    {
     "data": {
      "image/png": "[encoded data removed]",
      "text/plain": [
       "<Figure size 640x480 with 2 Axes>"
      ]
     },
     "metadata": {},
     "output_type": "display_data"
    }
   ],
   "source": [
    "sns.heatmap(df.corr() ,annot=True)\n"
   ]
  },
  {
   "cell_type": "code",
   "execution_count": 47,
   "id": "6c01214d-67a5-4d87-b4b4-4e2a763ac453",
   "metadata": {},
   "outputs": [],
   "source": [
    "y=df['accepted for the interview']\n",
    "X=df.drop(['accepted for the interview'],axis=1)"
   ]
  },
  {
   "cell_type": "code",
   "execution_count": 48,
   "id": "0a82efea-f036-4175-9ee9-a58c87d1b681",
   "metadata": {},
   "outputs": [],
   "source": [
    "from sklearn.model_selection import train_test_split\n",
    "X_train, X_test, y_train, y_test = train_test_split(X, y,test_size=0.30,random_state=42)"
   ]
  },
  {
   "cell_type": "code",
   "execution_count": 49,
   "id": "08eed7e8-6787-4516-8cf0-ead0871b5283",
   "metadata": {},
   "outputs": [],
   "source": [
    "from sklearn.linear_model import LogisticRegression\n",
    "logreg = LogisticRegression()\n",
    "logreg.fit(X_train,y_train)\n",
    "y_pred = logreg.predict(X_test)"
   ]
  },
  {
   "cell_type": "code",
   "execution_count": 50,
   "id": "d877e971-4b96-4a45-b92c-142f7acba5cf",
   "metadata": {},
   "outputs": [],
   "source": [
    "from sklearn.naive_bayes import GaussianNB\n",
    "model = GaussianNB()\n",
    "model.fit(X_train,y_train)\n",
    "y_pred2 = model.predict(X_test)"
   ]
  },
  {
   "cell_type": "code",
   "execution_count": 51,
   "id": "22b7fccd-f6b9-49a3-9e62-941b39966985",
   "metadata": {},
   "outputs": [],
   "source": [
    "from sklearn.neighbors import KNeighborsClassifier\n",
    "knn = KNeighborsClassifier(n_neighbors=5)\n",
    "knn.fit(X_train, y_train)\n",
    "y_pred3 = knn.predict(X_test)"
   ]
  },
  {
   "cell_type": "code",
   "execution_count": 52,
   "id": "32376613-785e-412b-a3ee-de785ee7de9e",
   "metadata": {},
   "outputs": [],
   "source": [
    "model_pipeline = []\n",
    "model_pipeline.append(LogisticRegression())\n",
    "model_pipeline.append(KNeighborsClassifier())\n",
    "model_pipeline.append(GaussianNB())"
   ]
  },
  {
   "cell_type": "code",
   "execution_count": 53,
   "id": "21509223-f286-454e-8208-1622ba032361",
   "metadata": {},
   "outputs": [],
   "source": [
    "from sklearn import metrics\n",
    "from sklearn.metrics import classification_report\n",
    "from sklearn.metrics import confusion_matrix\n",
    "model_list =('Logistic Regression','Naive Bayes ', ' KNN')\n",
    "acc_list = []\n",
    "auc_list =[]\n",
    "cm_list =[]\n",
    "\n",
    "for model in model_pipeline:\n",
    "    model.fit(X_train, y_train)\n",
    "    y_pred = model.predict(X_test)\n",
    "    acc_list.append(metrics.accuracy_score(y_test, y_pred))\n",
    "    fpr, tpr, _thresholds = metrics.roc_curve(y_test, y_pred)\n",
    "    auc_list.append (round(metrics.auc(fpr, tpr), 2))\n",
    "    cm_list.append (confusion_matrix(y_test, y_pred))"
   ]
  },
  {
   "cell_type": "code",
   "execution_count": 54,
   "id": "a12b8b78-22f3-4e67-8386-4357dd509c5e",
   "metadata": {
    "scrolled": true
   },
   "outputs": [
    {
     "data": {
      "text/html": [
       "<div>\n",
       "<style scoped>\n",
       "    .dataframe tbody tr th:only-of-type {\n",
       "        vertical-align: middle;\n",
       "    }\n",
       "\n",
       "    .dataframe tbody tr th {\n",
       "        vertical-align: top;\n",
       "    }\n",
       "\n",
       "    .dataframe thead th {\n",
       "        text-align: right;\n",
       "    }\n",
       "</style>\n",
       "<table border=\"1\" class=\"dataframe\">\n",
       "  <thead>\n",
       "    <tr style=\"text-align: right;\">\n",
       "      <th></th>\n",
       "      <th>Model</th>\n",
       "      <th>Acc</th>\n",
       "      <th>Auc</th>\n",
       "    </tr>\n",
       "  </thead>\n",
       "  <tbody>\n",
       "    <tr>\n",
       "      <th>0</th>\n",
       "      <td>Logistic Regression</td>\n",
       "      <td>0.908482</td>\n",
       "      <td>0.62</td>\n",
       "    </tr>\n",
       "    <tr>\n",
       "      <th>1</th>\n",
       "      <td>Naive Bayes</td>\n",
       "      <td>0.968750</td>\n",
       "      <td>0.86</td>\n",
       "    </tr>\n",
       "    <tr>\n",
       "      <th>2</th>\n",
       "      <td>KNN</td>\n",
       "      <td>0.883929</td>\n",
       "      <td>0.92</td>\n",
       "    </tr>\n",
       "  </tbody>\n",
       "</table>\n",
       "</div>"
      ],
      "text/plain": [
       "                 Model       Acc   Auc\n",
       "0  Logistic Regression  0.908482  0.62\n",
       "1         Naive Bayes   0.968750  0.86\n",
       "2                  KNN  0.883929  0.92"
      ]
     },
     "execution_count": 54,
     "metadata": {},
     "output_type": "execute_result"
    }
   ],
   "source": [
    "result_df =pd.DataFrame({'Model':model_list,'Acc':acc_list,'Auc':auc_list})\n",
    "result_df"
   ]
  },
  {
   "cell_type": "code",
   "execution_count": 55,
   "id": "675a81f8-1352-4158-8f22-e7761947e4eb",
   "metadata": {},
   "outputs": [
    {
     "data": {
      "image/png": "[encoded data removed]",
      "text/plain": [
       "<Figure size 1800x1000 with 6 Axes>"
      ]
     },
     "metadata": {},
     "output_type": "display_data"
    }
   ],
   "source": [
    "#confusion matrix\n",
    "import matplotlib.pyplot as plt \n",
    "fig = plt.figure(figsize=(18,10))\n",
    "for i in range(len(cm_list)):\n",
    "    cm= cm_list[i]\n",
    "    model = model_list[i]\n",
    "    sub = fig.add_subplot(2,3,i+1).set_title(model)\n",
    "    cm_plot=sns.heatmap(cm, annot=True , cmap='Blues_r')\n",
    "    cm_plot.set_xlabel('pv')\n",
    "    cm_plot.set_ylabel('av')"
   ]
  },
  {
   "cell_type": "code",
   "execution_count": null,
   "id": "94bd0b0c-9a1b-435a-be88-c73f5605eff2",
   "metadata": {},
   "outputs": [],
   "source": []
  }
 ],
 "metadata": {
  "kernelspec": {
   "display_name": "Python 3 (ipykernel)",
   "language": "python",
   "name": "python3"
  },
  "language_info": {
   "codemirror_mode": {
    "name": "ipython",
    "version": 3
   },
   "file_extension": ".py",
   "mimetype": "text/x-python",
   "name": "python",
   "nbconvert_exporter": "python",
   "pygments_lexer": "ipython3",
   "version": "3.11.7"
  }
 },
 "nbformat": 4,
 "nbformat_minor": 5
}
